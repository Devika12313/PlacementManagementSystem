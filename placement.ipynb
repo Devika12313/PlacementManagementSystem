{
  "nbformat": 4,
  "nbformat_minor": 0,
  "metadata": {
    "colab": {
      "name": "placement.ipynb",
      "provenance": [],
      "authorship_tag": "ABX9TyM5IRW12AgfZZ8OILpIUqDq",
      "include_colab_link": true
    },
    "kernelspec": {
      "name": "python3",
      "display_name": "Python 3"
    },
    "language_info": {
      "name": "python"
    }
  },
  "cells": [
    {
      "cell_type": "markdown",
      "metadata": {
        "id": "view-in-github",
        "colab_type": "text"
      },
      "source": [
        "<a href=\"https://colab.research.google.com/github/Devika12313/PlacementManagementSystem/blob/main/placement.ipynb\" target=\"_parent\"><img src=\"https://colab.research.google.com/assets/colab-badge.svg\" alt=\"Open In Colab\"/></a>"
      ]
    },
    {
      "cell_type": "code",
      "source": [
        "\n",
        "!pip install neo4j\n",
        "import neo4j\n",
        "import nltk\n",
        "import pylab\n",
        "!pip install blessings\n",
        "import blessings\n",
        "import sys\n",
        "import multiprocessing\n",
        "import nltk.corpus\n",
        "import pprint\n",
        "import re\n",
        "import json\n",
        "import ast\n",
        "import os\n",
        "import copy\n",
        "import random"
      ],
      "metadata": {
        "colab": {
          "base_uri": "https://localhost:8080/"
        },
        "id": "xl2uF1jU61rm",
        "outputId": "2183f23d-4e68-4d24-bff1-60d517f6dacc"
      },
      "execution_count": 6,
      "outputs": [
        {
          "output_type": "stream",
          "name": "stdout",
          "text": [
            "Requirement already satisfied: neo4j in /usr/local/lib/python3.7/dist-packages (4.4.1)\n",
            "Requirement already satisfied: pytz in /usr/local/lib/python3.7/dist-packages (from neo4j) (2018.9)\n",
            "Collecting blessings\n",
            "  Downloading blessings-1.7-py3-none-any.whl (18 kB)\n",
            "Requirement already satisfied: six in /usr/local/lib/python3.7/dist-packages (from blessings) (1.15.0)\n",
            "Installing collected packages: blessings\n",
            "Successfully installed blessings-1.7\n"
          ]
        }
      ]
    },
    {
      "cell_type": "code",
      "source": [
        "!pip install modules\n",
        "from modules import *"
      ],
      "metadata": {
        "colab": {
          "base_uri": "https://localhost:8080/"
        },
        "id": "AWqfIvZD8KdS",
        "outputId": "1448007b-de32-4994-f605-d5116915f419"
      },
      "execution_count": 8,
      "outputs": [
        {
          "output_type": "stream",
          "name": "stdout",
          "text": [
            "Collecting modules\n",
            "  Downloading modules-1.0.0.tar.gz (525 bytes)\n",
            "Building wheels for collected packages: modules\n",
            "  Building wheel for modules (setup.py) ... \u001b[?25l\u001b[?25hdone\n",
            "  Created wheel for modules: filename=modules-1.0.0-py3-none-any.whl size=1222 sha256=c7e92582ec2135b9bb33e6f59da0ab6bde6d7613b6a4d74610b25d22556a6ab2\n",
            "  Stored in directory: /root/.cache/pip/wheels/05/fb/b9/38f6beca84a9886bbad5f607ec36b7ab8eca58b4df2b4d1cf3\n",
            "Successfully built modules\n",
            "Installing collected packages: modules\n",
            "Successfully installed modules-1.0.0\n"
          ]
        }
      ]
    },
    {
      "cell_type": "code",
      "source": [
        "def getlevelDefinition(domain):\n",
        "    s = 'MATCH (d:`Domain`) WHERE d.OldTerminology = \"' +domain+'\" RETURN d.levelDefinition'\n",
        "    x = cursor.execute(s)\n",
        "    return next(x)[0]"
      ],
      "metadata": {
        "id": "kuER4SOrBXyw"
      },
      "execution_count": 33,
      "outputs": []
    },
    {
      "cell_type": "code",
      "source": [
        "def colour(string,domain):\n",
        "    \n",
        "    if domain==\"KNOWLEDGE\":       return t.red_on_white(string)\n",
        "    elif domain==\"COMPREHENSION\": return t.yellow_on_white(string)\n",
        "    elif domain==\"APPLICATION\":   return t.cyan_on_white(string)\n",
        "    elif domain==\"ANALYSIS\":      return t.green_on_white(string)\n",
        "    elif domain==\"SYNTHESIS\":     return t.magenta_on_white(string)\n",
        "    elif domain==\"EVALUATION\":    return t.blue_on_white(string)\n",
        "    \n",
        "    \n"
      ],
      "metadata": {
        "id": "TOpwvCbDBeEI"
      },
      "execution_count": 34,
      "outputs": []
    },
    {
      "cell_type": "code",
      "source": [
        "def accumulate(domain):\n",
        "    levels[domain]+=1"
      ],
      "metadata": {
        "id": "kjIdSJxWB2ay"
      },
      "execution_count": 35,
      "outputs": []
    },
    {
      "cell_type": "code",
      "source": [
        "def draw():        \n",
        "    colors= ['red','yellow','cyan', 'green', 'violet','blue']\n",
        "    pylab.figure(1, figsize=(10,10))\n",
        "    ax = pylab.axes([0.1, 0.1, 0.8, 0.8])\n",
        "    fracs = []\n",
        "    for i in domainNames:\n",
        "        try:\n",
        "            frac = (levels[i]*100)/total_levels\n",
        "            fracs.append(frac)\n",
        "        except:\n",
        "            print(\"All values Null\")\n",
        "            return\n",
        "explode=[0.05 if i==max(fracs) else 0 for i in fracs]\n",
        "pylab.pie(fracs, explode=explode, colors = colors , labels=domainNames, autopct='%1.1f%%', shadow=True, startangle=90)\n",
        "pylab.title(\"Blooms Taxonomy\", bbox={'facecolor':'0.8', 'pad':5})\n",
        "pylab.show()"
      ],
      "metadata": {
        "colab": {
          "base_uri": "https://localhost:8080/",
          "height": 252
        },
        "id": "Dag6iRu9B7pk",
        "outputId": "6b32bb60-eac0-4b1d-8dd0-c73a9bd369d5"
      },
      "execution_count": 55,
      "outputs": [
        {
          "output_type": "error",
          "ename": "NameError",
          "evalue": "ignored",
          "traceback": [
            "\u001b[0;31m---------------------------------------------------------------------------\u001b[0m",
            "\u001b[0;31mNameError\u001b[0m                                 Traceback (most recent call last)",
            "\u001b[0;32m<ipython-input-55-aac0ef4810ff>\u001b[0m in \u001b[0;36m<module>\u001b[0;34m()\u001b[0m\n\u001b[1;32m     11\u001b[0m             \u001b[0mprint\u001b[0m\u001b[0;34m(\u001b[0m\u001b[0;34m\"All values Null\"\u001b[0m\u001b[0;34m)\u001b[0m\u001b[0;34m\u001b[0m\u001b[0;34m\u001b[0m\u001b[0m\n\u001b[1;32m     12\u001b[0m             \u001b[0;32mreturn\u001b[0m\u001b[0;34m\u001b[0m\u001b[0;34m\u001b[0m\u001b[0m\n\u001b[0;32m---> 13\u001b[0;31m \u001b[0mexplode\u001b[0m\u001b[0;34m=\u001b[0m\u001b[0;34m[\u001b[0m\u001b[0;36m0.05\u001b[0m \u001b[0;32mif\u001b[0m \u001b[0mi\u001b[0m\u001b[0;34m==\u001b[0m\u001b[0mmax\u001b[0m\u001b[0;34m(\u001b[0m\u001b[0mfracs\u001b[0m\u001b[0;34m)\u001b[0m \u001b[0;32melse\u001b[0m \u001b[0;36m0\u001b[0m \u001b[0;32mfor\u001b[0m \u001b[0mi\u001b[0m \u001b[0;32min\u001b[0m \u001b[0mfracs\u001b[0m\u001b[0;34m]\u001b[0m\u001b[0;34m\u001b[0m\u001b[0;34m\u001b[0m\u001b[0m\n\u001b[0m\u001b[1;32m     14\u001b[0m \u001b[0mpylab\u001b[0m\u001b[0;34m.\u001b[0m\u001b[0mpie\u001b[0m\u001b[0;34m(\u001b[0m\u001b[0mfracs\u001b[0m\u001b[0;34m,\u001b[0m \u001b[0mexplode\u001b[0m\u001b[0;34m=\u001b[0m\u001b[0mexplode\u001b[0m\u001b[0;34m,\u001b[0m \u001b[0mcolors\u001b[0m \u001b[0;34m=\u001b[0m \u001b[0mcolors\u001b[0m \u001b[0;34m,\u001b[0m \u001b[0mlabels\u001b[0m\u001b[0;34m=\u001b[0m\u001b[0mdomainNames\u001b[0m\u001b[0;34m,\u001b[0m \u001b[0mautopct\u001b[0m\u001b[0;34m=\u001b[0m\u001b[0;34m'%1.1f%%'\u001b[0m\u001b[0;34m,\u001b[0m \u001b[0mshadow\u001b[0m\u001b[0;34m=\u001b[0m\u001b[0;32mTrue\u001b[0m\u001b[0;34m,\u001b[0m \u001b[0mstartangle\u001b[0m\u001b[0;34m=\u001b[0m\u001b[0;36m90\u001b[0m\u001b[0;34m)\u001b[0m\u001b[0;34m\u001b[0m\u001b[0;34m\u001b[0m\u001b[0m\n\u001b[1;32m     15\u001b[0m \u001b[0mpylab\u001b[0m\u001b[0;34m.\u001b[0m\u001b[0mtitle\u001b[0m\u001b[0;34m(\u001b[0m\u001b[0;34m\"Blooms Taxonomy\"\u001b[0m\u001b[0;34m,\u001b[0m \u001b[0mbbox\u001b[0m\u001b[0;34m=\u001b[0m\u001b[0;34m{\u001b[0m\u001b[0;34m'facecolor'\u001b[0m\u001b[0;34m:\u001b[0m\u001b[0;34m'0.8'\u001b[0m\u001b[0;34m,\u001b[0m \u001b[0;34m'pad'\u001b[0m\u001b[0;34m:\u001b[0m\u001b[0;36m5\u001b[0m\u001b[0;34m}\u001b[0m\u001b[0;34m)\u001b[0m\u001b[0;34m\u001b[0m\u001b[0;34m\u001b[0m\u001b[0m\n",
            "\u001b[0;31mNameError\u001b[0m: name 'fracs' is not defined"
          ]
        }
      ]
    }
  ]
}